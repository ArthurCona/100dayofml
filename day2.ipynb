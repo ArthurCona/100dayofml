{
 "cells": [
  {
   "cell_type": "code",
   "execution_count": null,
   "metadata": {},
   "outputs": [],
   "source": [
    "#data preprocessing \n",
    "import pandas as pd\n",
    "import numpy as np\n",
    "import matplotlib.pyplot as plt\n",
    "\n",
    "dataset = pd.read_csv('studentscores.csv')\n",
    "X= dataset.iloc[: , :1].values\n",
    "Y = dataset.iloc[ : , 1 ].values\n",
    "\n",
    "from sklearn.cross_validation import train_test_spilt\n",
    "X_train, X_test, Y_train, Y_test = train_test_split(X, Y, test_size = 1/4, random_state = 0)\n",
    "\n",
    "#fitting simple linear regression model to the training set\n",
    "from sklearn.linear_model import LinearRegression\n",
    "regressor = LinearRegression ()\n",
    "regressor = regressor.fit (x_train, Y_train)\n",
    "\n",
    "#predecting the result\n",
    "Y_pred=regressor.predict(X_test)\n",
    "\n",
    "#visualization\n",
    "\n",
    "plt.scatter(X_train, Y_train, color = 'red')\n",
    "plt.plot(X_train, regressor.predict(X_train), color=\"blue\")\n",
    "\n",
    "plt.scatter(X_test, Y_test, color='red')\n",
    "plt.plot(X_test, regressor.predict(X_test), color=\"blue\")"
   ]
  }
 ],
 "metadata": {
  "kernelspec": {
   "display_name": "Python 3",
   "language": "python",
   "name": "python3"
  },
  "language_info": {
   "codemirror_mode": {
    "name": "ipython",
    "version": 3
   },
   "file_extension": ".py",
   "mimetype": "text/x-python",
   "name": "python",
   "nbconvert_exporter": "python",
   "pygments_lexer": "ipython3",
   "version": "3.6.5"
  }
 },
 "nbformat": 4,
 "nbformat_minor": 2
}
